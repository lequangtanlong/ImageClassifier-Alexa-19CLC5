{
 "cells": [
  {
   "cell_type": "code",
   "execution_count": 25,
   "id": "17666e42",
   "metadata": {},
   "outputs": [],
   "source": [
    "import cv2\n",
    "import matplotlib.pyplot as plt\n",
    "%matplotlib inline"
   ]
  },
  {
   "cell_type": "code",
   "execution_count": null,
   "id": "b6ec5e91",
   "metadata": {},
   "outputs": [],
   "source": [
    "win_size = (48, 96)\n",
    "block_size = (16, 16)\n",
    "block_stride = (8, 8)\n",
    "cell_size = (8, 8)\n",
    "num_bins = 9\n",
    "hog = cv2.HOGDescriptor(win_size, block_size, block_stride, cell_size, num_bins)"
   ]
  },
  {
   "cell_type": "code",
   "execution_count": null,
   "id": "53266ea6",
   "metadata": {},
   "outputs": [],
   "source": [
    "import numpy as np\n",
    "import random\n",
    "random.seed(42)\n",
    "\n",
    "import os\n",
    "hroi = 128\n",
    "wroi = 64\n",
    "\n",
    "X_pos = []\n",
    "dirs = ['cats/', 'dogs/']\n",
    "for dir in dirs:\n",
    "    posdir =  'dataset_dogs_vs_cats/train/' + dir\n",
    "    for posfile in os.listdir(posdir):\n",
    "        filename = posdir + posfile\n",
    "        img = cv2.imread(filename)\n",
    "        img = cv2.resize(img, (512, 512))\n",
    "        for j in range(5):\n",
    "            rand_y = random.randint(0, img.shape[0] - hroi)\n",
    "            rand_x = random.randint(0, img.shape[1] - wroi)\n",
    "            roi = img[rand_y:rand_y + hroi, rand_x:rand_x + wroi, :]\n",
    "            X_pos.append(hog.compute(roi, (64, 64)))"
   ]
  },
  {
   "cell_type": "code",
   "execution_count": null,
   "id": "ffcbe7b5",
   "metadata": {},
   "outputs": [],
   "source": [
    "X_pos = np.array(X_pos, dtype=np.float32)\n",
    "y_pos = np.ones(X_pos.shape[0], dtype=np.int32)\n",
    "X_pos.shape, y_pos.shape"
   ]
  },
  {
   "cell_type": "code",
   "execution_count": null,
   "id": "a3c5210e",
   "metadata": {},
   "outputs": [],
   "source": [
    "X_neg = []\n",
    "negdir = 'data/chapter6/pedestrians_neg/'\n",
    "for negfile in os.listdir(negdir):\n",
    "    filename = negdir + negfile\n",
    "    img = cv2.imread(filename)\n",
    "    img = cv2.resize(img, (512, 512))\n",
    "    for j in range(5):\n",
    "        rand_y = random.randint(0, img.shape[0] - hroi)\n",
    "        rand_x = random.randint(0, img.shape[1] - wroi)\n",
    "        roi = img[rand_y:rand_y + hroi, rand_x:rand_x + wroi, :]\n",
    "        X_neg.append(hog.compute(roi, (64, 64)))"
   ]
  },
  {
   "cell_type": "code",
   "execution_count": null,
   "id": "144bf1a7",
   "metadata": {},
   "outputs": [],
   "source": [
    "X_neg = np.array(X_neg, dtype=np.float32)\n",
    "y_neg = -np.ones(X_neg.shape[0], dtype=np.int32)\n",
    "X_neg.shape, y_neg.shape"
   ]
  },
  {
   "cell_type": "code",
   "execution_count": null,
   "id": "92ea3899",
   "metadata": {},
   "outputs": [],
   "source": [
    "X = np.concatenate((X_pos, X_neg))\n",
    "y = np.concatenate((y_pos, y_neg))"
   ]
  },
  {
   "cell_type": "code",
   "execution_count": null,
   "id": "fce1df04",
   "metadata": {},
   "outputs": [],
   "source": [
    "from sklearn import model_selection as ms\n",
    "X_train, X_test, y_train, y_test = ms.train_test_split(X, y, test_size=0.2, random_state=42)"
   ]
  },
  {
   "cell_type": "code",
   "execution_count": null,
   "id": "6a08e629",
   "metadata": {},
   "outputs": [],
   "source": [
    "def train_svm(X_train, y_train):\n",
    "    svm = cv2.ml.SVM_create()\n",
    "    svm.train(X_train, cv2.ml.ROW_SAMPLE, y_train)\n",
    "    return svm"
   ]
  },
  {
   "cell_type": "code",
   "execution_count": null,
   "id": "4852fc65",
   "metadata": {},
   "outputs": [],
   "source": [
    "def score_svm(svm, X, y):\n",
    "    from sklearn import metrics\n",
    "    _, y_pred = svm.predict(X)\n",
    "    return metrics.accuracy_score(y, y_pred)"
   ]
  },
  {
   "cell_type": "code",
   "execution_count": null,
   "id": "604fca6a",
   "metadata": {},
   "outputs": [],
   "source": [
    "svm = train_svm(X_train, y_train)"
   ]
  },
  {
   "cell_type": "code",
   "execution_count": null,
   "id": "e9976cfd",
   "metadata": {},
   "outputs": [],
   "source": [
    "score_svm(svm, X_train, y_train)"
   ]
  },
  {
   "cell_type": "code",
   "execution_count": null,
   "id": "a605a5d1",
   "metadata": {},
   "outputs": [],
   "source": [
    "score_svm(svm, X_test, y_test)"
   ]
  },
  {
   "cell_type": "code",
   "execution_count": null,
   "id": "8c411b51",
   "metadata": {},
   "outputs": [],
   "source": [
    "img_test = cv2.imread('example.jpg')"
   ]
  },
  {
   "cell_type": "code",
   "execution_count": null,
   "id": "dcdc4e9c",
   "metadata": {},
   "outputs": [],
   "source": [
    "stride = 16\n",
    "found = []\n",
    "for ystart in np.arange(0, img_test.shape[0], stride):\n",
    "    for xstart in np.arange(0, img_test.shape[1], stride):\n",
    "        if ystart + hroi > img_test.shape[0]:\n",
    "            continue\n",
    "        if xstart + wroi > img_test.shape[1]:\n",
    "            continue\n",
    "        roi = img_test[ystart:ystart + hroi, xstart:xstart + wroi, :]\n",
    "        feat = np.array([hog.compute(roi, (64, 64))])\n",
    "        _, ypred = svm.predict(feat)\n",
    "        if np.allclose(ypred, 1):\n",
    "            found.append((ystart, xstart, hroi, wroi))"
   ]
  },
  {
   "cell_type": "code",
   "execution_count": null,
   "id": "78b8d9b4",
   "metadata": {},
   "outputs": [],
   "source": [
    "hog = cv2.HOGDescriptor(win_size, block_size, block_stride, cell_size, num_bins)"
   ]
  },
  {
   "cell_type": "code",
   "execution_count": null,
   "id": "0b9b7650",
   "metadata": {},
   "outputs": [],
   "source": [
    "rho, _, _ = svm.getDecisionFunction(0)\n",
    "sv = svm.getSupportVectors()\n",
    "hog.setSVMDetector(np.append(sv[0, :].ravel(), rho))"
   ]
  },
  {
   "cell_type": "code",
   "execution_count": null,
   "id": "d0a6a397",
   "metadata": {},
   "outputs": [],
   "source": [
    "found, _ = hog.detectMultiScale(img_test)"
   ]
  },
  {
   "cell_type": "code",
   "execution_count": null,
   "id": "43bdcb01",
   "metadata": {},
   "outputs": [],
   "source": [
    "fig = plt.figure(figsize=(10, 6))\n",
    "ax = fig.add_subplot(111)\n",
    "ax.imshow(cv2.cvtColor(img_test, cv2.COLOR_BGR2RGB))\n",
    "from matplotlib import patches\n",
    "for f in found:\n",
    "    ax.add_patch(patches.Rectangle((f[0], f[1]), f[2], f[3], color='g', linewidth=5, fill=False))\n",
    "plt.savefig('detected.png')"
   ]
  },
  {
   "cell_type": "code",
   "execution_count": null,
   "id": "e1a0363e",
   "metadata": {},
   "outputs": [],
   "source": []
  }
 ],
 "metadata": {
  "kernelspec": {
   "display_name": "Python 3 (ipykernel)",
   "language": "python",
   "name": "python3"
  },
  "language_info": {
   "codemirror_mode": {
    "name": "ipython",
    "version": 3
   },
   "file_extension": ".py",
   "mimetype": "text/x-python",
   "name": "python",
   "nbconvert_exporter": "python",
   "pygments_lexer": "ipython3",
   "version": "3.9.6"
  }
 },
 "nbformat": 4,
 "nbformat_minor": 5
}
