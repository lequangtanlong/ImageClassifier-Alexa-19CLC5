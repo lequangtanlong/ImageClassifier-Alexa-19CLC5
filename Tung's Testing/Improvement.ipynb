{
 "cells": [
  {
   "cell_type": "code",
   "execution_count": 2,
   "id": "1e894a82",
   "metadata": {},
   "outputs": [],
   "source": [
    "from os import makedirs\n",
    "from os import listdir\n",
    "from shutil import copyfile\n",
    "from random import seed\n",
    "from random import random\n",
    "\n",
    "base_dir = 'E:/Work/Projects/ToGit/Alexa_Project3/Classification/'\n",
    "\n",
    "dataset_home = 'dataset_dogs_vs_cats/'\n",
    "subdirs = ['train/', 'test/']\n",
    "for subdir in subdirs:\n",
    "    labeldirs = ['dogs/', 'cats/']\n",
    "    for labeldir in labeldirs:\n",
    "        newdir = dataset_home + subdir + labeldir\n",
    "        makedirs(newdir, exist_ok = True)\n",
    "        \n",
    "seed(1)\n",
    "val_ratio = 0.25\n",
    "src_directory = base_dir + 'train/'\n",
    "for file in listdir(src_directory):\n",
    "    src = src_directory + '/' + file\n",
    "    dst_dir = 'train/'\n",
    "    if random() < val_ratio:\n",
    "        dst_dir = 'test/'\n",
    "    if file.startswith('cat'):\n",
    "        dst = dataset_home + dst_dir + 'cats/' + file\n",
    "        copyfile(src, dst)\n",
    "    elif file.startswith('dog'):\n",
    "        dst = dataset_home + dst_dir + 'dogs/' + file\n",
    "        copyfile(src, dst)"
   ]
  },
  {
   "cell_type": "code",
   "execution_count": 15,
   "id": "0098079a",
   "metadata": {},
   "outputs": [
    {
     "name": "stdout",
     "output_type": "stream",
     "text": [
      "Model: \"model_2\"\n",
      "_________________________________________________________________\n",
      "Layer (type)                 Output Shape              Param #   \n",
      "=================================================================\n",
      "input_3 (InputLayer)         [(None, 150, 150, 3)]     0         \n",
      "_________________________________________________________________\n",
      "block1_conv1 (Conv2D)        (None, 150, 150, 64)      1792      \n",
      "_________________________________________________________________\n",
      "block1_conv2 (Conv2D)        (None, 150, 150, 64)      36928     \n",
      "_________________________________________________________________\n",
      "block1_pool (MaxPooling2D)   (None, 75, 75, 64)        0         \n",
      "_________________________________________________________________\n",
      "block2_conv1 (Conv2D)        (None, 75, 75, 128)       73856     \n",
      "_________________________________________________________________\n",
      "block2_conv2 (Conv2D)        (None, 75, 75, 128)       147584    \n",
      "_________________________________________________________________\n",
      "block2_pool (MaxPooling2D)   (None, 37, 37, 128)       0         \n",
      "_________________________________________________________________\n",
      "block3_conv1 (Conv2D)        (None, 37, 37, 256)       295168    \n",
      "_________________________________________________________________\n",
      "block3_conv2 (Conv2D)        (None, 37, 37, 256)       590080    \n",
      "_________________________________________________________________\n",
      "block3_conv3 (Conv2D)        (None, 37, 37, 256)       590080    \n",
      "_________________________________________________________________\n",
      "block3_pool (MaxPooling2D)   (None, 18, 18, 256)       0         \n",
      "_________________________________________________________________\n",
      "block4_conv1 (Conv2D)        (None, 18, 18, 512)       1180160   \n",
      "_________________________________________________________________\n",
      "block4_conv2 (Conv2D)        (None, 18, 18, 512)       2359808   \n",
      "_________________________________________________________________\n",
      "block4_conv3 (Conv2D)        (None, 18, 18, 512)       2359808   \n",
      "_________________________________________________________________\n",
      "block4_pool (MaxPooling2D)   (None, 9, 9, 512)         0         \n",
      "_________________________________________________________________\n",
      "block5_conv1 (Conv2D)        (None, 9, 9, 512)         2359808   \n",
      "_________________________________________________________________\n",
      "block5_conv2 (Conv2D)        (None, 9, 9, 512)         2359808   \n",
      "_________________________________________________________________\n",
      "block5_conv3 (Conv2D)        (None, 9, 9, 512)         2359808   \n",
      "_________________________________________________________________\n",
      "block5_pool (MaxPooling2D)   (None, 4, 4, 512)         0         \n",
      "_________________________________________________________________\n",
      "global_max_pooling2d_2 (Glob (None, 512)               0         \n",
      "_________________________________________________________________\n",
      "dense_4 (Dense)              (None, 512)               262656    \n",
      "_________________________________________________________________\n",
      "dropout_2 (Dropout)          (None, 512)               0         \n",
      "_________________________________________________________________\n",
      "dense_5 (Dense)              (None, 1)                 513       \n",
      "=================================================================\n",
      "Total params: 14,977,857\n",
      "Trainable params: 7,342,593\n",
      "Non-trainable params: 7,635,264\n",
      "_________________________________________________________________\n",
      "Found 18697 images belonging to 2 classes.\n",
      "Found 6303 images belonging to 2 classes.\n",
      "Epoch 1/10\n",
      "935/935 [==============================] - 2719s 3s/step - loss: 0.3981 - accuracy: 0.8091 - val_loss: 0.2357 - val_accuracy: 0.9031\n",
      "Epoch 2/10\n",
      "935/935 [==============================] - 2317s 2s/step - loss: 0.2323 - accuracy: 0.9036 - val_loss: 0.1858 - val_accuracy: 0.9218\n",
      "Epoch 3/10\n",
      "935/935 [==============================] - 2267s 2s/step - loss: 0.1877 - accuracy: 0.9228 - val_loss: 0.1621 - val_accuracy: 0.9345\n",
      "Epoch 4/10\n",
      "935/935 [==============================] - 2284s 2s/step - loss: 0.1702 - accuracy: 0.9305 - val_loss: 0.1540 - val_accuracy: 0.9324\n",
      "Epoch 5/10\n",
      "935/935 [==============================] - 2379s 3s/step - loss: 0.1535 - accuracy: 0.9387 - val_loss: 0.1442 - val_accuracy: 0.9388\n",
      "Epoch 6/10\n",
      "935/935 [==============================] - 2291s 2s/step - loss: 0.1430 - accuracy: 0.9431 - val_loss: 0.1421 - val_accuracy: 0.9416\n",
      "Epoch 7/10\n",
      "935/935 [==============================] - 2264s 2s/step - loss: 0.1244 - accuracy: 0.9485 - val_loss: 0.1378 - val_accuracy: 0.9372\n",
      "Epoch 8/10\n",
      "935/935 [==============================] - 2278s 2s/step - loss: 0.1251 - accuracy: 0.9496 - val_loss: 0.1299 - val_accuracy: 0.9478\n",
      "Epoch 9/10\n",
      "935/935 [==============================] - 2358s 3s/step - loss: 0.1161 - accuracy: 0.9535 - val_loss: 0.1235 - val_accuracy: 0.9503\n",
      "Epoch 10/10\n",
      "935/935 [==============================] - 2236s 2s/step - loss: 0.1105 - accuracy: 0.9548 - val_loss: 0.1267 - val_accuracy: 0.9469\n"
     ]
    }
   ],
   "source": [
    "from tensorflow import keras\n",
    "from keras.preprocessing.image import ImageDataGenerator\n",
    "from keras.models import Sequential\n",
    "from keras import layers\n",
    "from keras.layers import Conv2D, MaxPooling2D, Dropout, Flatten, Dense, Activation,GlobalMaxPooling2D\n",
    "from keras.layers import Activation, Dropout, Flatten, Dense\n",
    "from keras import backend as K\n",
    "from keras.models import Model\n",
    "from keras import applications\n",
    "from keras.models import load_model\n",
    "from keras.preprocessing import image\n",
    "import numpy as np\n",
    "\n",
    "pre_trained_model = keras.applications.VGG16(input_shape=(150, 150, 3), include_top=False, weights=\"imagenet\")\n",
    "    \n",
    "for layer in pre_trained_model.layers[:15]:\n",
    "    layer.trainable = False\n",
    "\n",
    "for layer in pre_trained_model.layers[15:]:\n",
    "    layer.trainable = True\n",
    "    \n",
    "last_layer = pre_trained_model.get_layer('block5_pool')\n",
    "last_output = last_layer.output\n",
    "    \n",
    "# Flatten the output layer to 1 dimension\n",
    "x = GlobalMaxPooling2D()(last_output)\n",
    "# Add a fully connected layer with 512 hidden units and ReLU activation\n",
    "x = Dense(512, activation='relu')(x)\n",
    "# Add a dropout rate of 0.5\n",
    "x = Dropout(0.5)(x)\n",
    "# Add a final sigmoid layer for classification\n",
    "x = layers.Dense(1, activation='sigmoid')(x)\n",
    "\n",
    "model = Model(pre_trained_model.input, x)\n",
    "\n",
    "model.compile(loss='binary_crossentropy', optimizer=keras.optimizers.SGD(learning_rate=1e-4, momentum=0.9), metrics=['accuracy'])\n",
    "\n",
    "model.summary()\n",
    "\n",
    "train_datagen = ImageDataGenerator(rescale = 1. / 255, shear_range = 0.2, zoom_range = 0.2, horizontal_flip = True)\n",
    "\n",
    "test_datagen = ImageDataGenerator(rescale = 1. / 255)\n",
    "\n",
    "train_set = train_datagen.flow_from_directory('dataset_dogs_vs_cats/train/', target_size = (150, 150), batch_size = 20, class_mode = 'binary')\n",
    "test_set = train_datagen.flow_from_directory('dataset_dogs_vs_cats/test/', class_mode = 'binary', batch_size = 20, target_size = (150, 150))\n",
    "\n",
    "history = model.fit(train_set, steps_per_epoch = len(train_set), epochs = 10, validation_data = test_set, validation_steps = len(test_set))\n",
    "\n",
    "model.save('model.h5')"
   ]
  },
  {
   "cell_type": "code",
   "execution_count": 16,
   "id": "b1d1da62",
   "metadata": {},
   "outputs": [
    {
     "data": {
      "image/png": "[encoded data removed]",
      "text/plain": [
       "<Figure size 432x288 with 1 Axes>"
      ]
     },
     "metadata": {
      "needs_background": "light"
     },
     "output_type": "display_data"
    },
    {
     "data": {
      "image/png": "[encoded data removed]",
      "text/plain": [
       "<Figure size 432x288 with 1 Axes>"
      ]
     },
     "metadata": {
      "needs_background": "light"
     },
     "output_type": "display_data"
    }
   ],
   "source": [
    "import matplotlib.pyplot as plt\n",
    "%matplotlib inline\n",
    "\n",
    "plt.plot(history.history['accuracy'])\n",
    "plt.plot(history.history['val_accuracy'])\n",
    "plt.title('Model Accuracy')\n",
    "plt.ylabel('accuracy')\n",
    "plt.xlabel('epoch')\n",
    "plt.legend(['train', 'test'], loc = 'upper left')\n",
    "plt.show()\n",
    "\n",
    "plt.plot(history.history['loss'])\n",
    "plt.plot(history.history['val_loss'])\n",
    "plt.title('Model Loss')\n",
    "plt.ylabel('loss')\n",
    "plt.xlabel('epoch')\n",
    "plt.legend(['train', 'test'], loc = 'upper left')\n",
    "plt.show()"
   ]
  },
  {
   "cell_type": "code",
   "execution_count": 17,
   "id": "542f8ed7",
   "metadata": {},
   "outputs": [
    {
     "name": "stdout",
     "output_type": "stream",
     "text": [
      "Prediction = dog \n",
      "Probability = 0.9999872\n",
      "Prediction = cat\n",
      "Probability = 0.9999865419076741\n",
      "Prediction = cat\n",
      "Probability = 0.9973436892032623\n",
      "Prediction = cat\n",
      "Probability = 0.9989097118377686\n",
      "Prediction = dog \n",
      "Probability = 0.9999759\n"
     ]
    }
   ],
   "source": [
    "from keras.preprocessing import image\n",
    "from os.path import isfile, join\n",
    "\n",
    "predict_dir_path=base_dir + 'predict/'\n",
    "files = [f for f in listdir(predict_dir_path) if isfile(join(predict_dir_path, f))]\n",
    "\n",
    "for file in files:    \n",
    "    predict = image.load_img(predict_dir_path + file, target_size = (150, 150))   \n",
    "    predict_modified = image.img_to_array(predict)\n",
    "    predict_modified = predict_modified / 255\n",
    "    predict_modified = np.expand_dims(predict_modified, axis = 0)\n",
    "    result = model.predict(predict_modified)\n",
    "    if result[0][0] >= 0.5:\n",
    "        print(\"Prediction = dog \")\n",
    "        print (\"Probability = \" + str(result[0][0]))\n",
    "    else:\n",
    "        print(\"Prediction = cat\")\n",
    "        print (\"Probability = \" + str(1 - result[0][0]))"
   ]
  },
  {
   "cell_type": "code",
   "execution_count": null,
   "id": "ffd0f301",
   "metadata": {},
   "outputs": [],
   "source": []
  },
  {
   "cell_type": "code",
   "execution_count": null,
   "id": "032eb874",
   "metadata": {},
   "outputs": [],
   "source": []
  }
 ],
 "metadata": {
  "kernelspec": {
   "display_name": "Python 3",
   "language": "python",
   "name": "python3"
  },
  "language_info": {
   "codemirror_mode": {
    "name": "ipython",
    "version": 3
   },
   "file_extension": ".py",
   "mimetype": "text/x-python",
   "name": "python",
   "nbconvert_exporter": "python",
   "pygments_lexer": "ipython3",
   "version": "3.8.8"
  }
 },
 "nbformat": 4,
 "nbformat_minor": 5
}
